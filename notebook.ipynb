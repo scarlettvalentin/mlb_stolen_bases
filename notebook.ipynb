{
 "cells": [
  {
   "cell_type": "markdown",
   "id": "31066a08-f833-4774-a5f5-5b18f72eed2c",
   "metadata": {},
   "source": [
    "# Stolen Bases: A Matter of Skill or Guts?"
   ]
  },
  {
   "cell_type": "markdown",
   "id": "54dca709-8af9-4410-8912-83287242c831",
   "metadata": {},
   "source": [
    "<img src='https://img.mlbstatic.com/mlb-images/image/upload/t_2x1/t_w1536/mlb/yblyorebwvue0kwl7y0b.jpg' width='600' align='center'/>"
   ]
  },
  {
   "cell_type": "markdown",
   "id": "3b66224a-e63e-45f5-b6c9-fb81c8ce5563",
   "metadata": {},
   "source": [
    "# Business Understanding"
   ]
  },
  {
   "cell_type": "markdown",
   "id": "6e5719ea-b7f2-4bf2-afe7-c817854f94af",
   "metadata": {},
   "source": [
    "MLB saw an increase in stolen bases in 2023. An MLB team wants to increase viewer retention rates and increase the fan base by adding more action into the game, and they've decided on joining the fun with stolen bases. In this project, I will be advising the MLB team on **how to increase SB stats** for their players. Is it a matter of skill or guts? While this MLB team wants to increase SB stats, they do not want it to jeopardize their wins.\n",
    "\n",
    "I investigate the following questions:\n",
    "1. Was the increase in stolen bases from 2022 to 2023 **significant**?\n",
    "2. What contributes to a high number of **stolen bases**?"
   ]
  },
  {
   "cell_type": "markdown",
   "id": "444c0601-b232-4a3c-93d2-9201fca94350",
   "metadata": {},
   "source": [
    "# Data Understanding"
   ]
  },
  {
   "cell_type": "markdown",
   "id": "6a052b00-11ee-4777-9f7d-d7cfc5bacaaf",
   "metadata": {},
   "source": [
    "This data was extracted from a custom leaderboard I created on **Baseball Savant**. There are 2 datasets with the same format - [one from 2022](https://baseballsavant.mlb.com/leaderboard/custom?year=2022&type=batter&filter=&min=q&selections=r_total_caught_stealing%2Cr_total_stolen_base%2Cn_bolts%2Csprint_speed&chart=true&x=r_total_caught_stealing&y=r_total_caught_stealing&r=no&chartType=beeswarm&sort=r_total_stolen_base&sortDir=desc) and [one from 2023](https://baseballsavant.mlb.com/leaderboard/custom?year=2023&type=batter&filter=&min=q&selections=r_total_caught_stealing%2Cr_total_stolen_base%2Cn_bolts%2Csprint_speed&chart=true&x=r_total_caught_stealing&y=r_total_caught_stealing&r=no&chartType=beeswarm&sort=r_total_stolen_base&sortDir=desc). The data includes **CS** (caught stealing), **SB** (stolen base), **Bolts** and **Sprint Speed** from **players in the MLB** (Major League Baseball). The 2022 dataset has stats for 130 players and the 2023 dataset has stats for 133 players. This data has been collected from **Statcast**, \"a state-of-the-art tracking technology, capable of measuring previously unquantifiable aspects of the game.\"([Baseball Savant](https://baseballsavant.mlb.com/about#:~:text=Where%20is%20the%20data%20from,probable%20pitchers%20for%20upcoming%20days.))"
   ]
  },
  {
   "cell_type": "markdown",
   "id": "cae766ed-337a-4f61-8cdf-ab28e6063c57",
   "metadata": {},
   "source": [
    "I began with importing the necessary libraries for my data preparation and exploratory data analysis. These libraries are for data manipulation and data visualization."
   ]
  },
  {
   "cell_type": "code",
   "execution_count": 1,
   "id": "1849775b-a466-4ef2-9e34-3aba4695a683",
   "metadata": {},
   "outputs": [],
   "source": [
    "import pandas as pd\n",
    "import numpy as np\n",
    "from scipy import stats\n",
    "import matplotlib.pyplot as plt\n",
    "import seaborn as sns\n",
    "\n",
    "import warnings\n",
    "warnings.simplefilter(action=\"ignore\", category=FutureWarning)\n",
    "\n",
    "%matplotlib inline"
   ]
  },
  {
   "cell_type": "markdown",
   "id": "2c01372a-d55c-46ce-9241-3db9d149b501",
   "metadata": {},
   "source": [
    "I then imported the data as pandas dataframes. The 2022 data is saved as `df_2022` and the 2023 data is saved as `df_2023`."
   ]
  },
  {
   "cell_type": "code",
   "execution_count": 2,
   "id": "04975863-7391-4a89-8e5c-f33791deafcb",
   "metadata": {},
   "outputs": [],
   "source": [
    "# import datasets\n",
    "df_2022 = pd.read_csv('stats_2022.csv')\n",
    "df_2023 = pd.read_csv('stats_2023.csv')"
   ]
  },
  {
   "cell_type": "markdown",
   "id": "aadb9dae-4084-4239-8a14-1c5cf3b79547",
   "metadata": {},
   "source": [
    "## Data Preparation"
   ]
  },
  {
   "cell_type": "markdown",
   "id": "bda036e9-856a-4ae4-b4c9-c9da61e2545c",
   "metadata": {},
   "source": [
    "Since the data was extracted from a custom leaderboard I created on [Baseball Savant](https://baseballsavant.mlb.com/), there was minimal cleaning that needed to be done. Both tables follow the same format so I will be following the same cleaning steps for each."
   ]
  },
  {
   "cell_type": "markdown",
   "id": "96697e61-892c-47f5-982f-873d893d9632",
   "metadata": {},
   "source": [
    "First, I previewed the first 5 entries of each table. This gives me a general idea on how I want to clean and handle the data. I notice:\n",
    "1. I want to **clean the column names**.\n",
    "2. I already see **NaNs for n_bolts**. I will have to decide how to handle that.\n",
    "3. Team names are not included in the dataset. I could add team rosters to a variable and feature engineer a column for teams, but I am more **focused on specific players** stealing bases, not on overall team statistics.\n",
    "4. On Baseball Savant, my customer leaderboard was **sorted** by descending stolen bases but the data did *not* import that way. I will keep that in mind as I proceed with my analysis."
   ]
  },
  {
   "cell_type": "code",
   "execution_count": 3,
   "id": "c7f52b0e-14d4-4fde-8d17-59f2ad9fce21",
   "metadata": {},
   "outputs": [
    {
     "data": {
      "text/html": [
       "<div>\n",
       "<style scoped>\n",
       "    .dataframe tbody tr th:only-of-type {\n",
       "        vertical-align: middle;\n",
       "    }\n",
       "\n",
       "    .dataframe tbody tr th {\n",
       "        vertical-align: top;\n",
       "    }\n",
       "\n",
       "    .dataframe thead th {\n",
       "        text-align: right;\n",
       "    }\n",
       "</style>\n",
       "<table border=\"1\" class=\"dataframe\">\n",
       "  <thead>\n",
       "    <tr style=\"text-align: right;\">\n",
       "      <th></th>\n",
       "      <th>last_name, first_name</th>\n",
       "      <th>player_id</th>\n",
       "      <th>year</th>\n",
       "      <th>r_total_caught_stealing</th>\n",
       "      <th>r_total_stolen_base</th>\n",
       "      <th>n_bolts</th>\n",
       "      <th>sprint_speed</th>\n",
       "    </tr>\n",
       "  </thead>\n",
       "  <tbody>\n",
       "    <tr>\n",
       "      <th>0</th>\n",
       "      <td>Thomas, Lane</td>\n",
       "      <td>657041</td>\n",
       "      <td>2022</td>\n",
       "      <td>4</td>\n",
       "      <td>8</td>\n",
       "      <td>39.0</td>\n",
       "      <td>29.4</td>\n",
       "    </tr>\n",
       "    <tr>\n",
       "      <th>1</th>\n",
       "      <td>Canha, Mark</td>\n",
       "      <td>592192</td>\n",
       "      <td>2022</td>\n",
       "      <td>1</td>\n",
       "      <td>3</td>\n",
       "      <td>NaN</td>\n",
       "      <td>27.5</td>\n",
       "    </tr>\n",
       "    <tr>\n",
       "      <th>2</th>\n",
       "      <td>Torres, Gleyber</td>\n",
       "      <td>650402</td>\n",
       "      <td>2022</td>\n",
       "      <td>5</td>\n",
       "      <td>10</td>\n",
       "      <td>NaN</td>\n",
       "      <td>26.9</td>\n",
       "    </tr>\n",
       "    <tr>\n",
       "      <th>3</th>\n",
       "      <td>Acuña Jr., Ronald</td>\n",
       "      <td>660670</td>\n",
       "      <td>2022</td>\n",
       "      <td>11</td>\n",
       "      <td>29</td>\n",
       "      <td>25.0</td>\n",
       "      <td>28.5</td>\n",
       "    </tr>\n",
       "    <tr>\n",
       "      <th>4</th>\n",
       "      <td>Mullins II, Cedric</td>\n",
       "      <td>656775</td>\n",
       "      <td>2022</td>\n",
       "      <td>10</td>\n",
       "      <td>34</td>\n",
       "      <td>18.0</td>\n",
       "      <td>28.5</td>\n",
       "    </tr>\n",
       "  </tbody>\n",
       "</table>\n",
       "</div>"
      ],
      "text/plain": [
       "  last_name, first_name  player_id  year  r_total_caught_stealing  \\\n",
       "0          Thomas, Lane     657041  2022                        4   \n",
       "1           Canha, Mark     592192  2022                        1   \n",
       "2       Torres, Gleyber     650402  2022                        5   \n",
       "3     Acuña Jr., Ronald     660670  2022                       11   \n",
       "4    Mullins II, Cedric     656775  2022                       10   \n",
       "\n",
       "   r_total_stolen_base  n_bolts  sprint_speed  \n",
       "0                    8     39.0          29.4  \n",
       "1                    3      NaN          27.5  \n",
       "2                   10      NaN          26.9  \n",
       "3                   29     25.0          28.5  \n",
       "4                   34     18.0          28.5  "
      ]
     },
     "execution_count": 3,
     "metadata": {},
     "output_type": "execute_result"
    }
   ],
   "source": [
    "# View the first 5 entries of 2022 data\n",
    "df_2022.head()"
   ]
  },
  {
   "cell_type": "code",
   "execution_count": 4,
   "id": "c14b5052-f38a-4fad-b214-2ae1ae959ca9",
   "metadata": {},
   "outputs": [
    {
     "data": {
      "text/html": [
       "<div>\n",
       "<style scoped>\n",
       "    .dataframe tbody tr th:only-of-type {\n",
       "        vertical-align: middle;\n",
       "    }\n",
       "\n",
       "    .dataframe tbody tr th {\n",
       "        vertical-align: top;\n",
       "    }\n",
       "\n",
       "    .dataframe thead th {\n",
       "        text-align: right;\n",
       "    }\n",
       "</style>\n",
       "<table border=\"1\" class=\"dataframe\">\n",
       "  <thead>\n",
       "    <tr style=\"text-align: right;\">\n",
       "      <th></th>\n",
       "      <th>last_name, first_name</th>\n",
       "      <th>player_id</th>\n",
       "      <th>year</th>\n",
       "      <th>r_total_caught_stealing</th>\n",
       "      <th>r_total_stolen_base</th>\n",
       "      <th>n_bolts</th>\n",
       "      <th>sprint_speed</th>\n",
       "    </tr>\n",
       "  </thead>\n",
       "  <tbody>\n",
       "    <tr>\n",
       "      <th>0</th>\n",
       "      <td>Candelario, Jeimer</td>\n",
       "      <td>600869</td>\n",
       "      <td>2023</td>\n",
       "      <td>1</td>\n",
       "      <td>8</td>\n",
       "      <td>NaN</td>\n",
       "      <td>27.5</td>\n",
       "    </tr>\n",
       "    <tr>\n",
       "      <th>1</th>\n",
       "      <td>McMahon, Ryan</td>\n",
       "      <td>641857</td>\n",
       "      <td>2023</td>\n",
       "      <td>5</td>\n",
       "      <td>5</td>\n",
       "      <td>NaN</td>\n",
       "      <td>25.8</td>\n",
       "    </tr>\n",
       "    <tr>\n",
       "      <th>2</th>\n",
       "      <td>Muncy, Max</td>\n",
       "      <td>571970</td>\n",
       "      <td>2023</td>\n",
       "      <td>2</td>\n",
       "      <td>1</td>\n",
       "      <td>NaN</td>\n",
       "      <td>26.9</td>\n",
       "    </tr>\n",
       "    <tr>\n",
       "      <th>3</th>\n",
       "      <td>Soler, Jorge</td>\n",
       "      <td>624585</td>\n",
       "      <td>2023</td>\n",
       "      <td>0</td>\n",
       "      <td>1</td>\n",
       "      <td>NaN</td>\n",
       "      <td>26.6</td>\n",
       "    </tr>\n",
       "    <tr>\n",
       "      <th>4</th>\n",
       "      <td>Edman, Tommy</td>\n",
       "      <td>669242</td>\n",
       "      <td>2023</td>\n",
       "      <td>4</td>\n",
       "      <td>27</td>\n",
       "      <td>7.0</td>\n",
       "      <td>28.8</td>\n",
       "    </tr>\n",
       "  </tbody>\n",
       "</table>\n",
       "</div>"
      ],
      "text/plain": [
       "  last_name, first_name  player_id  year  r_total_caught_stealing  \\\n",
       "0    Candelario, Jeimer     600869  2023                        1   \n",
       "1         McMahon, Ryan     641857  2023                        5   \n",
       "2            Muncy, Max     571970  2023                        2   \n",
       "3          Soler, Jorge     624585  2023                        0   \n",
       "4          Edman, Tommy     669242  2023                        4   \n",
       "\n",
       "   r_total_stolen_base  n_bolts  sprint_speed  \n",
       "0                    8      NaN          27.5  \n",
       "1                    5      NaN          25.8  \n",
       "2                    1      NaN          26.9  \n",
       "3                    1      NaN          26.6  \n",
       "4                   27      7.0          28.8  "
      ]
     },
     "execution_count": 4,
     "metadata": {},
     "output_type": "execute_result"
    }
   ],
   "source": [
    "# View the first 5 entries of 2023 data\n",
    "df_2023.head()"
   ]
  },
  {
   "cell_type": "code",
   "execution_count": 5,
   "id": "bce9d916-0109-4769-a8f2-c72e2e46115a",
   "metadata": {},
   "outputs": [
    {
     "name": "stdout",
     "output_type": "stream",
     "text": [
      "<class 'pandas.core.frame.DataFrame'>\n",
      "RangeIndex: 130 entries, 0 to 129\n",
      "Data columns (total 7 columns):\n",
      " #   Column                   Non-Null Count  Dtype  \n",
      "---  ------                   --------------  -----  \n",
      " 0   last_name, first_name    130 non-null    object \n",
      " 1   player_id                130 non-null    int64  \n",
      " 2   year                     130 non-null    int64  \n",
      " 3   r_total_caught_stealing  130 non-null    int64  \n",
      " 4   r_total_stolen_base      130 non-null    int64  \n",
      " 5   n_bolts                  44 non-null     float64\n",
      " 6   sprint_speed             130 non-null    float64\n",
      "dtypes: float64(2), int64(4), object(1)\n",
      "memory usage: 7.2+ KB\n"
     ]
    }
   ],
   "source": [
    "# View the overall shape, dtypes and null counts for each column in df_2022\n",
    "df_2022.info()"
   ]
  },
  {
   "cell_type": "code",
   "execution_count": 6,
   "id": "ca9d17e3-9ae1-4dab-a827-6bcfacb5ff6f",
   "metadata": {},
   "outputs": [
    {
     "name": "stdout",
     "output_type": "stream",
     "text": [
      "<class 'pandas.core.frame.DataFrame'>\n",
      "RangeIndex: 133 entries, 0 to 132\n",
      "Data columns (total 7 columns):\n",
      " #   Column                   Non-Null Count  Dtype  \n",
      "---  ------                   --------------  -----  \n",
      " 0   last_name, first_name    133 non-null    object \n",
      " 1   player_id                133 non-null    int64  \n",
      " 2   year                     133 non-null    int64  \n",
      " 3   r_total_caught_stealing  133 non-null    int64  \n",
      " 4   r_total_stolen_base      133 non-null    int64  \n",
      " 5   n_bolts                  50 non-null     float64\n",
      " 6   sprint_speed             133 non-null    float64\n",
      "dtypes: float64(2), int64(4), object(1)\n",
      "memory usage: 7.4+ KB\n"
     ]
    }
   ],
   "source": [
    "# View the overall shape, dtypes and null counts for each column in df_2023\n",
    "df_2023.info()"
   ]
  },
  {
   "cell_type": "markdown",
   "id": "927dc4b8-00ff-4d22-ae05-f276aaaea069",
   "metadata": {},
   "source": [
    "Above I noticed as I viewed the overall makeup of the data that n_bolts is the only column with **nulls** in either dataframe. I want to handle these so I will investigate further."
   ]
  },
  {
   "cell_type": "code",
   "execution_count": 7,
   "id": "c21d4284-1fd6-4815-8499-095d1834e5de",
   "metadata": {},
   "outputs": [
    {
     "data": {
      "text/html": [
       "<div>\n",
       "<style scoped>\n",
       "    .dataframe tbody tr th:only-of-type {\n",
       "        vertical-align: middle;\n",
       "    }\n",
       "\n",
       "    .dataframe tbody tr th {\n",
       "        vertical-align: top;\n",
       "    }\n",
       "\n",
       "    .dataframe thead th {\n",
       "        text-align: right;\n",
       "    }\n",
       "</style>\n",
       "<table border=\"1\" class=\"dataframe\">\n",
       "  <thead>\n",
       "    <tr style=\"text-align: right;\">\n",
       "      <th></th>\n",
       "      <th>last_name, first_name</th>\n",
       "      <th>player_id</th>\n",
       "      <th>year</th>\n",
       "      <th>r_total_caught_stealing</th>\n",
       "      <th>r_total_stolen_base</th>\n",
       "      <th>n_bolts</th>\n",
       "      <th>sprint_speed</th>\n",
       "    </tr>\n",
       "  </thead>\n",
       "  <tbody>\n",
       "    <tr>\n",
       "      <th>90</th>\n",
       "      <td>Happ, Ian</td>\n",
       "      <td>664023</td>\n",
       "      <td>2023</td>\n",
       "      <td>3</td>\n",
       "      <td>14</td>\n",
       "      <td>NaN</td>\n",
       "      <td>27.7</td>\n",
       "    </tr>\n",
       "    <tr>\n",
       "      <th>48</th>\n",
       "      <td>Raleigh, Cal</td>\n",
       "      <td>663728</td>\n",
       "      <td>2023</td>\n",
       "      <td>0</td>\n",
       "      <td>0</td>\n",
       "      <td>NaN</td>\n",
       "      <td>27.0</td>\n",
       "    </tr>\n",
       "    <tr>\n",
       "      <th>120</th>\n",
       "      <td>Nootbaar, Lars</td>\n",
       "      <td>663457</td>\n",
       "      <td>2023</td>\n",
       "      <td>1</td>\n",
       "      <td>11</td>\n",
       "      <td>NaN</td>\n",
       "      <td>27.8</td>\n",
       "    </tr>\n",
       "    <tr>\n",
       "      <th>24</th>\n",
       "      <td>Arenado, Nolan</td>\n",
       "      <td>571448</td>\n",
       "      <td>2023</td>\n",
       "      <td>3</td>\n",
       "      <td>3</td>\n",
       "      <td>NaN</td>\n",
       "      <td>24.9</td>\n",
       "    </tr>\n",
       "    <tr>\n",
       "      <th>5</th>\n",
       "      <td>Wade Jr., LaMonte</td>\n",
       "      <td>664774</td>\n",
       "      <td>2023</td>\n",
       "      <td>0</td>\n",
       "      <td>2</td>\n",
       "      <td>NaN</td>\n",
       "      <td>26.0</td>\n",
       "    </tr>\n",
       "    <tr>\n",
       "      <th>7</th>\n",
       "      <td>De La Cruz, Bryan</td>\n",
       "      <td>650559</td>\n",
       "      <td>2023</td>\n",
       "      <td>1</td>\n",
       "      <td>4</td>\n",
       "      <td>NaN</td>\n",
       "      <td>27.7</td>\n",
       "    </tr>\n",
       "    <tr>\n",
       "      <th>88</th>\n",
       "      <td>Ruiz, Keibert</td>\n",
       "      <td>660688</td>\n",
       "      <td>2023</td>\n",
       "      <td>1</td>\n",
       "      <td>1</td>\n",
       "      <td>NaN</td>\n",
       "      <td>25.1</td>\n",
       "    </tr>\n",
       "    <tr>\n",
       "      <th>75</th>\n",
       "      <td>Melendez Jr., MJ</td>\n",
       "      <td>669004</td>\n",
       "      <td>2023</td>\n",
       "      <td>4</td>\n",
       "      <td>6</td>\n",
       "      <td>NaN</td>\n",
       "      <td>27.6</td>\n",
       "    </tr>\n",
       "    <tr>\n",
       "      <th>105</th>\n",
       "      <td>Drury, Brandon</td>\n",
       "      <td>592273</td>\n",
       "      <td>2023</td>\n",
       "      <td>2</td>\n",
       "      <td>0</td>\n",
       "      <td>NaN</td>\n",
       "      <td>26.9</td>\n",
       "    </tr>\n",
       "    <tr>\n",
       "      <th>79</th>\n",
       "      <td>Soto, Juan</td>\n",
       "      <td>665742</td>\n",
       "      <td>2023</td>\n",
       "      <td>5</td>\n",
       "      <td>12</td>\n",
       "      <td>NaN</td>\n",
       "      <td>26.8</td>\n",
       "    </tr>\n",
       "    <tr>\n",
       "      <th>53</th>\n",
       "      <td>Alonso, Pete</td>\n",
       "      <td>624413</td>\n",
       "      <td>2023</td>\n",
       "      <td>1</td>\n",
       "      <td>4</td>\n",
       "      <td>NaN</td>\n",
       "      <td>26.0</td>\n",
       "    </tr>\n",
       "    <tr>\n",
       "      <th>6</th>\n",
       "      <td>Rosario, Eddie</td>\n",
       "      <td>592696</td>\n",
       "      <td>2023</td>\n",
       "      <td>4</td>\n",
       "      <td>3</td>\n",
       "      <td>NaN</td>\n",
       "      <td>28.0</td>\n",
       "    </tr>\n",
       "    <tr>\n",
       "      <th>117</th>\n",
       "      <td>Contreras, William</td>\n",
       "      <td>661388</td>\n",
       "      <td>2023</td>\n",
       "      <td>1</td>\n",
       "      <td>6</td>\n",
       "      <td>NaN</td>\n",
       "      <td>26.5</td>\n",
       "    </tr>\n",
       "    <tr>\n",
       "      <th>92</th>\n",
       "      <td>Torkelson, Spencer</td>\n",
       "      <td>679529</td>\n",
       "      <td>2023</td>\n",
       "      <td>0</td>\n",
       "      <td>3</td>\n",
       "      <td>NaN</td>\n",
       "      <td>27.4</td>\n",
       "    </tr>\n",
       "    <tr>\n",
       "      <th>9</th>\n",
       "      <td>Díaz, Yandy</td>\n",
       "      <td>650490</td>\n",
       "      <td>2023</td>\n",
       "      <td>1</td>\n",
       "      <td>0</td>\n",
       "      <td>NaN</td>\n",
       "      <td>26.6</td>\n",
       "    </tr>\n",
       "    <tr>\n",
       "      <th>14</th>\n",
       "      <td>Perez, Salvador</td>\n",
       "      <td>521692</td>\n",
       "      <td>2023</td>\n",
       "      <td>0</td>\n",
       "      <td>0</td>\n",
       "      <td>NaN</td>\n",
       "      <td>24.3</td>\n",
       "    </tr>\n",
       "    <tr>\n",
       "      <th>41</th>\n",
       "      <td>Bogaerts, Xander</td>\n",
       "      <td>593428</td>\n",
       "      <td>2023</td>\n",
       "      <td>2</td>\n",
       "      <td>19</td>\n",
       "      <td>NaN</td>\n",
       "      <td>27.6</td>\n",
       "    </tr>\n",
       "    <tr>\n",
       "      <th>102</th>\n",
       "      <td>Jung, Josh</td>\n",
       "      <td>673962</td>\n",
       "      <td>2023</td>\n",
       "      <td>3</td>\n",
       "      <td>1</td>\n",
       "      <td>NaN</td>\n",
       "      <td>26.8</td>\n",
       "    </tr>\n",
       "    <tr>\n",
       "      <th>100</th>\n",
       "      <td>Bichette, Bo</td>\n",
       "      <td>666182</td>\n",
       "      <td>2023</td>\n",
       "      <td>3</td>\n",
       "      <td>5</td>\n",
       "      <td>NaN</td>\n",
       "      <td>27.1</td>\n",
       "    </tr>\n",
       "    <tr>\n",
       "      <th>16</th>\n",
       "      <td>Betts, Mookie</td>\n",
       "      <td>605141</td>\n",
       "      <td>2023</td>\n",
       "      <td>3</td>\n",
       "      <td>14</td>\n",
       "      <td>NaN</td>\n",
       "      <td>27.2</td>\n",
       "    </tr>\n",
       "  </tbody>\n",
       "</table>\n",
       "</div>"
      ],
      "text/plain": [
       "    last_name, first_name  player_id  year  r_total_caught_stealing  \\\n",
       "90              Happ, Ian     664023  2023                        3   \n",
       "48           Raleigh, Cal     663728  2023                        0   \n",
       "120        Nootbaar, Lars     663457  2023                        1   \n",
       "24         Arenado, Nolan     571448  2023                        3   \n",
       "5       Wade Jr., LaMonte     664774  2023                        0   \n",
       "7       De La Cruz, Bryan     650559  2023                        1   \n",
       "88          Ruiz, Keibert     660688  2023                        1   \n",
       "75       Melendez Jr., MJ     669004  2023                        4   \n",
       "105        Drury, Brandon     592273  2023                        2   \n",
       "79             Soto, Juan     665742  2023                        5   \n",
       "53           Alonso, Pete     624413  2023                        1   \n",
       "6          Rosario, Eddie     592696  2023                        4   \n",
       "117    Contreras, William     661388  2023                        1   \n",
       "92     Torkelson, Spencer     679529  2023                        0   \n",
       "9             Díaz, Yandy     650490  2023                        1   \n",
       "14        Perez, Salvador     521692  2023                        0   \n",
       "41       Bogaerts, Xander     593428  2023                        2   \n",
       "102            Jung, Josh     673962  2023                        3   \n",
       "100          Bichette, Bo     666182  2023                        3   \n",
       "16          Betts, Mookie     605141  2023                        3   \n",
       "\n",
       "     r_total_stolen_base  n_bolts  sprint_speed  \n",
       "90                    14      NaN          27.7  \n",
       "48                     0      NaN          27.0  \n",
       "120                   11      NaN          27.8  \n",
       "24                     3      NaN          24.9  \n",
       "5                      2      NaN          26.0  \n",
       "7                      4      NaN          27.7  \n",
       "88                     1      NaN          25.1  \n",
       "75                     6      NaN          27.6  \n",
       "105                    0      NaN          26.9  \n",
       "79                    12      NaN          26.8  \n",
       "53                     4      NaN          26.0  \n",
       "6                      3      NaN          28.0  \n",
       "117                    6      NaN          26.5  \n",
       "92                     3      NaN          27.4  \n",
       "9                      0      NaN          26.6  \n",
       "14                     0      NaN          24.3  \n",
       "41                    19      NaN          27.6  \n",
       "102                    1      NaN          26.8  \n",
       "100                    5      NaN          27.1  \n",
       "16                    14      NaN          27.2  "
      ]
     },
     "execution_count": 7,
     "metadata": {},
     "output_type": "execute_result"
    }
   ],
   "source": [
    "# View random 20 entries where n_bolts is NaN\n",
    "df_2023[df_2023['n_bolts'].isna()].sample(20)"
   ]
  },
  {
   "cell_type": "markdown",
   "id": "980826c2-f029-4922-8e98-6c5f8cd7de68",
   "metadata": {},
   "source": [
    "\"A Bolt is any run where the Sprint Speed (defined as \"feet per second in a player's fastest one-second window\") of the runner is at least 30 ft/sec.\"([MLB](https://www.mlb.com/glossary/statcast/bolt)). All of the samples where Bolt is NaN include Sprint Speeds that are less than 30. Therefore, it seems safe to say that these players did not have any bolts. I will **change the NaNs to 0's**."
   ]
  },
  {
   "cell_type": "code",
   "execution_count": 8,
   "id": "67a1aaab-90aa-46a3-96d7-09dbceb8c9a5",
   "metadata": {},
   "outputs": [],
   "source": [
    "# Replace NaNs in N_Bolts with 0\n",
    "df_2022['n_bolts'] = df_2022['n_bolts'].fillna(0)\n",
    "df_2023['n_bolts'] = df_2023['n_bolts'].fillna(0)"
   ]
  },
  {
   "cell_type": "markdown",
   "id": "b478f41e-f21e-43f9-8ae8-d056893156f8",
   "metadata": {},
   "source": [
    "Below shows the **summary statistics** of each dataset. Although all of the data below is numerical, player_id and year are categorical data, so those can be ignored. r_total_caught_stealing, r_total_stolen_base, n_bolts, and sprint_speed, however, give me a general overview of the values I expect to see in the data set.\n",
    "\n",
    "I do notice the difference in r_total_stolen_base means from 2022 to 2023. The 2022 mean is 8.9 and the 2023 mean is 11.75. It is a difference of 2.85, but **is that significant?** I will analyze further in the EDA. "
   ]
  },
  {
   "cell_type": "code",
   "execution_count": 9,
   "id": "47dfb248-d903-471d-a27c-0e94e6f6027a",
   "metadata": {},
   "outputs": [
    {
     "data": {
      "text/html": [
       "<div>\n",
       "<style scoped>\n",
       "    .dataframe tbody tr th:only-of-type {\n",
       "        vertical-align: middle;\n",
       "    }\n",
       "\n",
       "    .dataframe tbody tr th {\n",
       "        vertical-align: top;\n",
       "    }\n",
       "\n",
       "    .dataframe thead th {\n",
       "        text-align: right;\n",
       "    }\n",
       "</style>\n",
       "<table border=\"1\" class=\"dataframe\">\n",
       "  <thead>\n",
       "    <tr style=\"text-align: right;\">\n",
       "      <th></th>\n",
       "      <th>player_id</th>\n",
       "      <th>year</th>\n",
       "      <th>r_total_caught_stealing</th>\n",
       "      <th>r_total_stolen_base</th>\n",
       "      <th>n_bolts</th>\n",
       "      <th>sprint_speed</th>\n",
       "    </tr>\n",
       "  </thead>\n",
       "  <tbody>\n",
       "    <tr>\n",
       "      <th>count</th>\n",
       "      <td>130.000000</td>\n",
       "      <td>130.0</td>\n",
       "      <td>130.000000</td>\n",
       "      <td>130.000000</td>\n",
       "      <td>130.000000</td>\n",
       "      <td>130.000000</td>\n",
       "    </tr>\n",
       "    <tr>\n",
       "      <th>mean</th>\n",
       "      <td>607829.930769</td>\n",
       "      <td>2022.0</td>\n",
       "      <td>2.638462</td>\n",
       "      <td>8.907692</td>\n",
       "      <td>7.338462</td>\n",
       "      <td>27.280769</td>\n",
       "    </tr>\n",
       "    <tr>\n",
       "      <th>std</th>\n",
       "      <td>61551.798138</td>\n",
       "      <td>0.0</td>\n",
       "      <td>2.572978</td>\n",
       "      <td>8.823371</td>\n",
       "      <td>20.286916</td>\n",
       "      <td>1.290820</td>\n",
       "    </tr>\n",
       "    <tr>\n",
       "      <th>min</th>\n",
       "      <td>443558.000000</td>\n",
       "      <td>2022.0</td>\n",
       "      <td>0.000000</td>\n",
       "      <td>0.000000</td>\n",
       "      <td>0.000000</td>\n",
       "      <td>24.000000</td>\n",
       "    </tr>\n",
       "    <tr>\n",
       "      <th>25%</th>\n",
       "      <td>571987.750000</td>\n",
       "      <td>2022.0</td>\n",
       "      <td>1.000000</td>\n",
       "      <td>2.000000</td>\n",
       "      <td>0.000000</td>\n",
       "      <td>26.400000</td>\n",
       "    </tr>\n",
       "    <tr>\n",
       "      <th>50%</th>\n",
       "      <td>622163.500000</td>\n",
       "      <td>2022.0</td>\n",
       "      <td>2.000000</td>\n",
       "      <td>6.000000</td>\n",
       "      <td>0.000000</td>\n",
       "      <td>27.350000</td>\n",
       "    </tr>\n",
       "    <tr>\n",
       "      <th>75%</th>\n",
       "      <td>663574.000000</td>\n",
       "      <td>2022.0</td>\n",
       "      <td>3.750000</td>\n",
       "      <td>13.750000</td>\n",
       "      <td>1.750000</td>\n",
       "      <td>28.200000</td>\n",
       "    </tr>\n",
       "    <tr>\n",
       "      <th>max</th>\n",
       "      <td>683734.000000</td>\n",
       "      <td>2022.0</td>\n",
       "      <td>12.000000</td>\n",
       "      <td>35.000000</td>\n",
       "      <td>131.000000</td>\n",
       "      <td>30.300000</td>\n",
       "    </tr>\n",
       "  </tbody>\n",
       "</table>\n",
       "</div>"
      ],
      "text/plain": [
       "           player_id    year  r_total_caught_stealing  r_total_stolen_base  \\\n",
       "count     130.000000   130.0               130.000000           130.000000   \n",
       "mean   607829.930769  2022.0                 2.638462             8.907692   \n",
       "std     61551.798138     0.0                 2.572978             8.823371   \n",
       "min    443558.000000  2022.0                 0.000000             0.000000   \n",
       "25%    571987.750000  2022.0                 1.000000             2.000000   \n",
       "50%    622163.500000  2022.0                 2.000000             6.000000   \n",
       "75%    663574.000000  2022.0                 3.750000            13.750000   \n",
       "max    683734.000000  2022.0                12.000000            35.000000   \n",
       "\n",
       "          n_bolts  sprint_speed  \n",
       "count  130.000000    130.000000  \n",
       "mean     7.338462     27.280769  \n",
       "std     20.286916      1.290820  \n",
       "min      0.000000     24.000000  \n",
       "25%      0.000000     26.400000  \n",
       "50%      0.000000     27.350000  \n",
       "75%      1.750000     28.200000  \n",
       "max    131.000000     30.300000  "
      ]
     },
     "execution_count": 9,
     "metadata": {},
     "output_type": "execute_result"
    }
   ],
   "source": [
    "# View summary statistics of df_2022\n",
    "df_2022.describe()"
   ]
  },
  {
   "cell_type": "code",
   "execution_count": 10,
   "id": "ff41392a-06b2-413f-a6cb-b034d29e4d58",
   "metadata": {
    "scrolled": true
   },
   "outputs": [
    {
     "data": {
      "text/html": [
       "<div>\n",
       "<style scoped>\n",
       "    .dataframe tbody tr th:only-of-type {\n",
       "        vertical-align: middle;\n",
       "    }\n",
       "\n",
       "    .dataframe tbody tr th {\n",
       "        vertical-align: top;\n",
       "    }\n",
       "\n",
       "    .dataframe thead th {\n",
       "        text-align: right;\n",
       "    }\n",
       "</style>\n",
       "<table border=\"1\" class=\"dataframe\">\n",
       "  <thead>\n",
       "    <tr style=\"text-align: right;\">\n",
       "      <th></th>\n",
       "      <th>player_id</th>\n",
       "      <th>year</th>\n",
       "      <th>r_total_caught_stealing</th>\n",
       "      <th>r_total_stolen_base</th>\n",
       "      <th>n_bolts</th>\n",
       "      <th>sprint_speed</th>\n",
       "    </tr>\n",
       "  </thead>\n",
       "  <tbody>\n",
       "    <tr>\n",
       "      <th>count</th>\n",
       "      <td>133.000000</td>\n",
       "      <td>133.0</td>\n",
       "      <td>133.000000</td>\n",
       "      <td>133.000000</td>\n",
       "      <td>133.000000</td>\n",
       "      <td>133.000000</td>\n",
       "    </tr>\n",
       "    <tr>\n",
       "      <th>mean</th>\n",
       "      <td>633932.578947</td>\n",
       "      <td>2023.0</td>\n",
       "      <td>2.796992</td>\n",
       "      <td>11.751880</td>\n",
       "      <td>7.541353</td>\n",
       "      <td>27.395489</td>\n",
       "    </tr>\n",
       "    <tr>\n",
       "      <th>std</th>\n",
       "      <td>49936.834584</td>\n",
       "      <td>0.0</td>\n",
       "      <td>2.859750</td>\n",
       "      <td>12.585108</td>\n",
       "      <td>22.734139</td>\n",
       "      <td>1.242301</td>\n",
       "    </tr>\n",
       "    <tr>\n",
       "      <th>min</th>\n",
       "      <td>457759.000000</td>\n",
       "      <td>2023.0</td>\n",
       "      <td>0.000000</td>\n",
       "      <td>0.000000</td>\n",
       "      <td>0.000000</td>\n",
       "      <td>24.300000</td>\n",
       "    </tr>\n",
       "    <tr>\n",
       "      <th>25%</th>\n",
       "      <td>605204.000000</td>\n",
       "      <td>2023.0</td>\n",
       "      <td>1.000000</td>\n",
       "      <td>3.000000</td>\n",
       "      <td>0.000000</td>\n",
       "      <td>26.400000</td>\n",
       "    </tr>\n",
       "    <tr>\n",
       "      <th>50%</th>\n",
       "      <td>656305.000000</td>\n",
       "      <td>2023.0</td>\n",
       "      <td>2.000000</td>\n",
       "      <td>8.000000</td>\n",
       "      <td>0.000000</td>\n",
       "      <td>27.400000</td>\n",
       "    </tr>\n",
       "    <tr>\n",
       "      <th>75%</th>\n",
       "      <td>666969.000000</td>\n",
       "      <td>2023.0</td>\n",
       "      <td>4.000000</td>\n",
       "      <td>16.000000</td>\n",
       "      <td>2.000000</td>\n",
       "      <td>28.300000</td>\n",
       "    </tr>\n",
       "    <tr>\n",
       "      <th>max</th>\n",
       "      <td>807799.000000</td>\n",
       "      <td>2023.0</td>\n",
       "      <td>15.000000</td>\n",
       "      <td>73.000000</td>\n",
       "      <td>149.000000</td>\n",
       "      <td>30.500000</td>\n",
       "    </tr>\n",
       "  </tbody>\n",
       "</table>\n",
       "</div>"
      ],
      "text/plain": [
       "           player_id    year  r_total_caught_stealing  r_total_stolen_base  \\\n",
       "count     133.000000   133.0               133.000000           133.000000   \n",
       "mean   633932.578947  2023.0                 2.796992            11.751880   \n",
       "std     49936.834584     0.0                 2.859750            12.585108   \n",
       "min    457759.000000  2023.0                 0.000000             0.000000   \n",
       "25%    605204.000000  2023.0                 1.000000             3.000000   \n",
       "50%    656305.000000  2023.0                 2.000000             8.000000   \n",
       "75%    666969.000000  2023.0                 4.000000            16.000000   \n",
       "max    807799.000000  2023.0                15.000000            73.000000   \n",
       "\n",
       "          n_bolts  sprint_speed  \n",
       "count  133.000000    133.000000  \n",
       "mean     7.541353     27.395489  \n",
       "std     22.734139      1.242301  \n",
       "min      0.000000     24.300000  \n",
       "25%      0.000000     26.400000  \n",
       "50%      0.000000     27.400000  \n",
       "75%      2.000000     28.300000  \n",
       "max    149.000000     30.500000  "
      ]
     },
     "execution_count": 10,
     "metadata": {},
     "output_type": "execute_result"
    }
   ],
   "source": [
    "# View summary statistics of df_2023\n",
    "df_2023.describe()"
   ]
  },
  {
   "cell_type": "markdown",
   "id": "8c60150c-450f-4388-a57f-9fc4377aa9ca",
   "metadata": {},
   "source": [
    "Below I checked for **duplicates**. I didn't think there would be any but you never know!"
   ]
  },
  {
   "cell_type": "code",
   "execution_count": 11,
   "id": "be901d1c-7bcb-46a4-880a-1dce4f700dc0",
   "metadata": {},
   "outputs": [
    {
     "data": {
      "text/plain": [
       "0"
      ]
     },
     "execution_count": 11,
     "metadata": {},
     "output_type": "execute_result"
    }
   ],
   "source": [
    "# Check for duplicated\n",
    "len(df_2022[df_2022.duplicated()])"
   ]
  },
  {
   "cell_type": "code",
   "execution_count": 12,
   "id": "f531e5fc-fa58-4a43-9ea0-0ee0b4cd60f8",
   "metadata": {},
   "outputs": [
    {
     "data": {
      "text/plain": [
       "0"
      ]
     },
     "execution_count": 12,
     "metadata": {},
     "output_type": "execute_result"
    }
   ],
   "source": [
    "# Check for duplicated\n",
    "len(df_2023[df_2023.duplicated()])"
   ]
  },
  {
   "cell_type": "code",
   "execution_count": 13,
   "id": "bd3a97f3-1305-4b08-96d0-05eed610a377",
   "metadata": {},
   "outputs": [],
   "source": [
    "# Rewrite column names in title case for preference\n",
    "df_2022.columns = df_2022.columns.map(lambda x: x.title())\n",
    "df_2023.columns = df_2023.columns.map(lambda x: x.title())"
   ]
  },
  {
   "cell_type": "markdown",
   "id": "29610b51-d09e-4002-b22d-ddbfb552bafe",
   "metadata": {},
   "source": [
    "### Feature Engineering"
   ]
  },
  {
   "cell_type": "markdown",
   "id": "cf49d92f-ba6c-4635-ab98-4589fb12bd99",
   "metadata": {},
   "source": [
    "I create two columns that will be useful in my analysis:\n",
    "1. `Total_Steal_Attempts`\n",
    "2. `Stolen_Base_%`: This one is a column on Baseball Savant but was empty, therefore I am calculating it here."
   ]
  },
  {
   "cell_type": "code",
   "execution_count": 14,
   "id": "4c405c43-1c32-447a-9c68-281cb8a3a3e5",
   "metadata": {},
   "outputs": [],
   "source": [
    "# Create Total_Steal_Attempts by adding R_Total_Caught_Stealing and R_Total_Stolen_Base\n",
    "df_2022['Total_Steal_Attempts'] = df_2022['R_Total_Caught_Stealing'] + df_2022['R_Total_Stolen_Base']\n",
    "df_2023['Total_Steal_Attempts'] = df_2023['R_Total_Caught_Stealing'] + df_2023['R_Total_Stolen_Base']"
   ]
  },
  {
   "cell_type": "code",
   "execution_count": 15,
   "id": "45904501-f436-46ea-ba4f-eb9650bad1dd",
   "metadata": {},
   "outputs": [],
   "source": [
    "# Create %_Stolen_Base by adding R_Total_Caught_Stealing and R_Total_Stolen_Base\n",
    "df_2022['Stolen_Base_%'] = df_2022['R_Total_Stolen_Base'] / df_2022['Total_Steal_Attempts']\n",
    "df_2023['Stolen_Base_%'] = df_2023['R_Total_Stolen_Base'] / df_2023['Total_Steal_Attempts']"
   ]
  },
  {
   "cell_type": "code",
   "execution_count": 16,
   "id": "daadc20f-8c06-426f-851f-ef59ef5e1740",
   "metadata": {},
   "outputs": [
    {
     "data": {
      "text/html": [
       "<div>\n",
       "<style scoped>\n",
       "    .dataframe tbody tr th:only-of-type {\n",
       "        vertical-align: middle;\n",
       "    }\n",
       "\n",
       "    .dataframe tbody tr th {\n",
       "        vertical-align: top;\n",
       "    }\n",
       "\n",
       "    .dataframe thead th {\n",
       "        text-align: right;\n",
       "    }\n",
       "</style>\n",
       "<table border=\"1\" class=\"dataframe\">\n",
       "  <thead>\n",
       "    <tr style=\"text-align: right;\">\n",
       "      <th></th>\n",
       "      <th>Last_Name, First_Name</th>\n",
       "      <th>Player_Id</th>\n",
       "      <th>Year</th>\n",
       "      <th>R_Total_Caught_Stealing</th>\n",
       "      <th>R_Total_Stolen_Base</th>\n",
       "      <th>N_Bolts</th>\n",
       "      <th>Sprint_Speed</th>\n",
       "      <th>Total_Steal_Attempts</th>\n",
       "      <th>Stolen_Base_%</th>\n",
       "    </tr>\n",
       "  </thead>\n",
       "  <tbody>\n",
       "    <tr>\n",
       "      <th>0</th>\n",
       "      <td>Candelario, Jeimer</td>\n",
       "      <td>600869</td>\n",
       "      <td>2023</td>\n",
       "      <td>1</td>\n",
       "      <td>8</td>\n",
       "      <td>0.0</td>\n",
       "      <td>27.5</td>\n",
       "      <td>9</td>\n",
       "      <td>0.888889</td>\n",
       "    </tr>\n",
       "    <tr>\n",
       "      <th>1</th>\n",
       "      <td>McMahon, Ryan</td>\n",
       "      <td>641857</td>\n",
       "      <td>2023</td>\n",
       "      <td>5</td>\n",
       "      <td>5</td>\n",
       "      <td>0.0</td>\n",
       "      <td>25.8</td>\n",
       "      <td>10</td>\n",
       "      <td>0.500000</td>\n",
       "    </tr>\n",
       "    <tr>\n",
       "      <th>2</th>\n",
       "      <td>Muncy, Max</td>\n",
       "      <td>571970</td>\n",
       "      <td>2023</td>\n",
       "      <td>2</td>\n",
       "      <td>1</td>\n",
       "      <td>0.0</td>\n",
       "      <td>26.9</td>\n",
       "      <td>3</td>\n",
       "      <td>0.333333</td>\n",
       "    </tr>\n",
       "    <tr>\n",
       "      <th>3</th>\n",
       "      <td>Soler, Jorge</td>\n",
       "      <td>624585</td>\n",
       "      <td>2023</td>\n",
       "      <td>0</td>\n",
       "      <td>1</td>\n",
       "      <td>0.0</td>\n",
       "      <td>26.6</td>\n",
       "      <td>1</td>\n",
       "      <td>1.000000</td>\n",
       "    </tr>\n",
       "    <tr>\n",
       "      <th>4</th>\n",
       "      <td>Edman, Tommy</td>\n",
       "      <td>669242</td>\n",
       "      <td>2023</td>\n",
       "      <td>4</td>\n",
       "      <td>27</td>\n",
       "      <td>7.0</td>\n",
       "      <td>28.8</td>\n",
       "      <td>31</td>\n",
       "      <td>0.870968</td>\n",
       "    </tr>\n",
       "  </tbody>\n",
       "</table>\n",
       "</div>"
      ],
      "text/plain": [
       "  Last_Name, First_Name  Player_Id  Year  R_Total_Caught_Stealing  \\\n",
       "0    Candelario, Jeimer     600869  2023                        1   \n",
       "1         McMahon, Ryan     641857  2023                        5   \n",
       "2            Muncy, Max     571970  2023                        2   \n",
       "3          Soler, Jorge     624585  2023                        0   \n",
       "4          Edman, Tommy     669242  2023                        4   \n",
       "\n",
       "   R_Total_Stolen_Base  N_Bolts  Sprint_Speed  Total_Steal_Attempts  \\\n",
       "0                    8      0.0          27.5                     9   \n",
       "1                    5      0.0          25.8                    10   \n",
       "2                    1      0.0          26.9                     3   \n",
       "3                    1      0.0          26.6                     1   \n",
       "4                   27      7.0          28.8                    31   \n",
       "\n",
       "   Stolen_Base_%  \n",
       "0       0.888889  \n",
       "1       0.500000  \n",
       "2       0.333333  \n",
       "3       1.000000  \n",
       "4       0.870968  "
      ]
     },
     "execution_count": 16,
     "metadata": {},
     "output_type": "execute_result"
    }
   ],
   "source": [
    "# Preview how the df looks now\n",
    "df_2023.head()"
   ]
  },
  {
   "cell_type": "code",
   "execution_count": 17,
   "id": "7e19c255-827b-484b-95a5-ece4155d4200",
   "metadata": {
    "scrolled": true
   },
   "outputs": [],
   "source": [
    "# Concatenate the two dataframes\n",
    "sb_data = pd.concat([df_2022, df_2023], axis=0)\n",
    "\n",
    "# Export new dataframe to visualize in tableau\n",
    "sb_data.to_csv('sb_data.csv')"
   ]
  },
  {
   "cell_type": "markdown",
   "id": "2fb67518-4a4f-49a3-be72-ff8fd2f50067",
   "metadata": {},
   "source": [
    "# Exploratory Data Analysis"
   ]
  },
  {
   "cell_type": "markdown",
   "id": "e1e62b94-56d1-4815-b66c-745f014af60b",
   "metadata": {},
   "source": [
    "There are two things I am looking to explore in this Exploratory Data Analysis:\n",
    "1. Was the increase in stolen bases from 2022 to 2023 **significant**?\n",
    "2. What contributes to a high number of **stolen bases**?"
   ]
  },
  {
   "cell_type": "markdown",
   "id": "900699e8-5582-4604-bb13-802a0adf4d1d",
   "metadata": {},
   "source": [
    "## 1. Was the increase in stolen bases from 2022 to 2023 significant?"
   ]
  },
  {
   "cell_type": "markdown",
   "id": "b1730666-58eb-413a-84c7-1a965bbf711a",
   "metadata": {},
   "source": [
    "In order to determine if the increase in stolen bases from 2022 to 2023 was significant, I am going to conduct a **two sample t-test**. This will determine if there is a significant difference between the stolen base means from 2022 to 2023, as was reported in [articles](https://www.mlb.com/news/mlb-records-3000th-stolen-base-in-2023) and fans alike.\n",
    "\n",
    "These are the steps I will take to conduct the hypothesis test:\n",
    "1. Set up null and alternative hypotheses.\n",
    "2. Choose a significance level.\n",
    "3. Calculate the t-statistic.\n",
    "4. Determine the critical or p-value.\n",
    "5. Compare t-value with critical t-value to reject or fail to reject the null hypothesis."
   ]
  },
  {
   "cell_type": "markdown",
   "id": "a250c7a5-900d-4cd7-871c-48c0d0c0544d",
   "metadata": {},
   "source": [
    "Before begining the two sample t-test, I visualize each of the distributions on a **KDE plot**. There is a slight difference in distributions and definitely **warrants further investigation** to determine if these differences are significant or not. Each distribution is **skewed to the right**, as the outliers are from players with high SB. "
   ]
  },
  {
   "cell_type": "code",
   "execution_count": 18,
   "id": "163ad7ed-e57c-447f-ad69-49d84174cf79",
   "metadata": {},
   "outputs": [
    {
     "data": {
      "image/png": "[encoded data removed]",
      "text/plain": [
       "<Figure size 600x400 with 1 Axes>"
      ]
     },
     "metadata": {},
     "output_type": "display_data"
    }
   ],
   "source": [
    "# Visualize distribution plots\n",
    "sns.set_theme(context='notebook', palette='bright', rc={'figure.figsize':(6,4)})\n",
    "sns.histplot(df_2022['R_Total_Stolen_Base'], kde=True, stat='probability', label='2022')\n",
    "sns.histplot(df_2023['R_Total_Stolen_Base'], kde=True, stat='probability', label='2023')\n",
    "\n",
    "# Label axes and title\n",
    "plt.xlabel('Total Stolen Base')\n",
    "plt.ylabel('Probability')\n",
    "plt.title('Total Stolen Base Distributions in 2022 and 2023')\n",
    "\n",
    "plt.legend();"
   ]
  },
  {
   "cell_type": "markdown",
   "id": "1685e962-181a-43aa-9a55-a9f8d362755e",
   "metadata": {},
   "source": [
    "### 1. Set up null and alternative hypotheses."
   ]
  },
  {
   "cell_type": "markdown",
   "id": "142e7e28-bf3b-4b3d-815d-01fae2333c43",
   "metadata": {},
   "source": [
    "**Null Hypothesis**: The mean number of stolen bases in the MLB did not increase from 2022 to 2023.\n",
    "<br>\n",
    "**Alternative Hypothesis**: The mean number of stolen bases in the MLB increased from 2022 to 2023."
   ]
  },
  {
   "cell_type": "markdown",
   "id": "061571bb-53ed-4545-ba4a-940d0824864c",
   "metadata": {},
   "source": [
    "### 2. Choose a significance level."
   ]
  },
  {
   "cell_type": "markdown",
   "id": "d7556d63-6b21-4d44-9cd7-d7b730559fb4",
   "metadata": {},
   "source": [
    "I will choose the standard 5% significance level for this hypothesis test."
   ]
  },
  {
   "cell_type": "code",
   "execution_count": 19,
   "id": "f7cd861c-399f-49ca-92b6-0984e3dadd5f",
   "metadata": {},
   "outputs": [],
   "source": [
    "# Save 5% significance level as alpha for future use\n",
    "alpha = 0.05"
   ]
  },
  {
   "cell_type": "markdown",
   "id": "8b0e2a96-876f-43c8-8cc3-65d25e053547",
   "metadata": {},
   "source": [
    "### 3. Calculate the critical t-value."
   ]
  },
  {
   "cell_type": "code",
   "execution_count": 20,
   "id": "b9ce7417-f54c-41bf-ae08-e5e44e5f80c0",
   "metadata": {},
   "outputs": [
    {
     "name": "stdout",
     "output_type": "stream",
     "text": [
      "The critical t-value is 1.650712726541289.\n"
     ]
    }
   ],
   "source": [
    "# Save n variables for critical t formula\n",
    "n_2022 = len(df_2022['R_Total_Stolen_Base'])\n",
    "n_2023 = len(df_2023['R_Total_Stolen_Base'])\n",
    "\n",
    "\n",
    "# Calculate critical t-value with a 5% significance level for a one-tailed test\n",
    "t_crit = stats.t.ppf(1-0.05,(n_2022+n_2023-2))\n",
    "print(f'The critical t-value is {t_crit}.')"
   ]
  },
  {
   "cell_type": "markdown",
   "id": "ee681e4f-ab2a-4d2f-8b81-07386948024d",
   "metadata": {},
   "source": [
    "### 4. Calculate the t-statistic and p-value."
   ]
  },
  {
   "cell_type": "code",
   "execution_count": 21,
   "id": "5d0c99b5-2d55-417a-9a52-119ecafa611e",
   "metadata": {},
   "outputs": [
    {
     "name": "stdout",
     "output_type": "stream",
     "text": [
      "The t-statistic is 2.117726302313559 and the p-value is 0.03514387117074101.\n"
     ]
    }
   ],
   "source": [
    "t_stat, p_value = stats.ttest_ind(df_2023['R_Total_Stolen_Base'], df_2022['R_Total_Stolen_Base'])\n",
    "print(f'The t-statistic is {t_stat} and the p-value is {p_value}.')"
   ]
  },
  {
   "cell_type": "markdown",
   "id": "70056b37-453a-4f57-9a0c-d93df3f1ab55",
   "metadata": {},
   "source": [
    "### 5. Compare t-value with critical t-value to reject or fail to reject the null hypothesis."
   ]
  },
  {
   "cell_type": "markdown",
   "id": "a7090558-2447-47e5-9df2-45c5d1679863",
   "metadata": {},
   "source": [
    "With the following findings:\n",
    "- t-statistic of approximately 2.1 and a critical t-value of 1.65\n",
    "- alpha value of 5% and p-value of approximately 0.035\n",
    "<br>\n",
    "\n",
    "I **reject the null hypothesis** at a significance level of 5%."
   ]
  },
  {
   "cell_type": "markdown",
   "id": "10574ab5-c12c-4f00-863f-4890faa6c8fc",
   "metadata": {},
   "source": [
    "The following t-distribution marks the critical t-value in red. This sections stretches to the right. The t-statistic is marked in black, which falls to the right of the critical t-value."
   ]
  },
  {
   "cell_type": "code",
   "execution_count": 22,
   "id": "ceeea888-9c6f-4322-bbd5-a8ad37d915d7",
   "metadata": {},
   "outputs": [
    {
     "data": {
      "image/png": "[encoded data removed]",
      "text/plain": [
       "<Figure size 600x400 with 1 Axes>"
      ]
     },
     "metadata": {},
     "output_type": "display_data"
    }
   ],
   "source": [
    "fig = plt.figure(figsize=(6,4))\n",
    "x_axis = np.linspace(-4,4,50)\n",
    " \n",
    "# use stats.t.pdf to get values on the probability density function for the t-distribution\n",
    "y_axis = stats.t.pdf(x_axis, (n_2022+n_2023-2), 0, 1)\n",
    "\n",
    "plt.plot(x_axis, y_axis)\n",
    "    \n",
    "# Draw one sided boundary for critical-t\n",
    "plt.axvline(t_crit, color='red', linestyle='--', lw=2, label='critical t')\n",
    "plt.axvline(t_stat, color='black', linestyle='-', lw=2, label='t-statistic')\n",
    "plt.legend()\n",
    "plt.show()"
   ]
  },
  {
   "cell_type": "markdown",
   "id": "7ebbe6b3-690e-4e12-892f-6b5b5cbd336b",
   "metadata": {},
   "source": [
    "## 2. What is the number of stolen base attempts that would increase action in the game without greatly increasing the chances of a loss?"
   ]
  },
  {
   "cell_type": "markdown",
   "id": "dc741452-be02-40d9-a7c0-7a8fd71ef3b1",
   "metadata": {},
   "source": [
    "In order to predict the advantageous number of stolen base attemps that would increase the action in the game without greatly increasing the chances of loss, I am going to analyze the data from `df_2023`. "
   ]
  },
  {
   "cell_type": "code",
   "execution_count": null,
   "id": "22692bc1-4329-4e54-9204-a0a7f9f8c7f5",
   "metadata": {},
   "outputs": [],
   "source": [
    "Do players with a lot of stolen bases also have a great number of caught stolen?"
   ]
  },
  {
   "cell_type": "code",
   "execution_count": 38,
   "id": "fa7a8484-1da1-490e-a846-e78033f8909c",
   "metadata": {},
   "outputs": [
    {
     "data": {
      "text/plain": [
       "array([[1.        , 0.72395428],\n",
       "       [0.72395428, 1.        ]])"
      ]
     },
     "execution_count": 38,
     "metadata": {},
     "output_type": "execute_result"
    },
    {
     "data": {
      "image/png": "[encoded data removed]",
      "text/plain": [
       "<Figure size 600x400 with 1 Axes>"
      ]
     },
     "metadata": {},
     "output_type": "display_data"
    }
   ],
   "source": [
    "ax = sns.scatterplot(df_2023, x='R_Total_Caught_Stealing', y='R_Total_Stolen_Base')\n",
    "ax.set_xlabel('Total CS')\n",
    "ax.set_ylabel('Total SB')\n",
    "ax.set_title('CS and SB Correlation');\n",
    "corr = np.corrcoef(df_2023['R_Total_Caught_Stealing'], df_2023['R_Total_Stolen_Base'])\n",
    "corr"
   ]
  },
  {
   "cell_type": "code",
   "execution_count": 39,
   "id": "10e766c0-7028-48f4-afdb-f99c751802e6",
   "metadata": {
    "scrolled": true
   },
   "outputs": [
    {
     "data": {
      "text/plain": [
       "array([[1.      , 0.645063],\n",
       "       [0.645063, 1.      ]])"
      ]
     },
     "execution_count": 39,
     "metadata": {},
     "output_type": "execute_result"
    },
    {
     "data": {
      "image/png": "[encoded data removed]",
      "text/plain": [
       "<Figure size 600x400 with 1 Axes>"
      ]
     },
     "metadata": {},
     "output_type": "display_data"
    }
   ],
   "source": [
    "ax = sns.scatterplot(df_2023, x='Sprint_Speed', y='R_Total_Stolen_Base')\n",
    "ax.set_xlabel('Sprint Speed')\n",
    "ax.set_ylabel('Total SB')\n",
    "ax.set_title('Sprint Speed and SB Correlation');\n",
    "corr = np.corrcoef(df_2023['Sprint_Speed'], df_2023['R_Total_Stolen_Base'])\n",
    "corr"
   ]
  },
  {
   "cell_type": "code",
   "execution_count": 43,
   "id": "060f2d81-41b2-4324-91e1-eab96513b3fd",
   "metadata": {},
   "outputs": [
    {
     "data": {
      "text/plain": [
       "array([[1.        , 0.54370247],\n",
       "       [0.54370247, 1.        ]])"
      ]
     },
     "execution_count": 43,
     "metadata": {},
     "output_type": "execute_result"
    },
    {
     "data": {
      "image/png": "[encoded data removed]",
      "text/plain": [
       "<Figure size 600x400 with 1 Axes>"
      ]
     },
     "metadata": {},
     "output_type": "display_data"
    }
   ],
   "source": [
    "ax = sns.scatterplot(df_2023, x='N_Bolts', y='R_Total_Stolen_Base')\n",
    "ax.set_xlabel('Bolts')\n",
    "ax.set_ylabel('Total SB')\n",
    "ax.set_title('Bolt and SB Correlation');\n",
    "corr = np.corrcoef(df_2023['N_Bolts'], df_2023['R_Total_Stolen_Base'])\n",
    "corr"
   ]
  },
  {
   "cell_type": "code",
   "execution_count": 47,
   "id": "83059db6-4a99-4a86-84eb-6ca73735593f",
   "metadata": {},
   "outputs": [
    {
     "data": {
      "image/png": "[encoded data removed]",
      "text/plain": [
       "<Figure size 600x400 with 1 Axes>"
      ]
     },
     "metadata": {},
     "output_type": "display_data"
    }
   ],
   "source": [
    "ax = sns.histplot(df_2023, x='Sprint_Speed', y='R_Total_Stolen_Base')\n",
    "ax.set_xlabel('Sprint_Speed')\n",
    "ax.set_ylabel('Total SB')\n",
    "ax.set_title('Sprint_Speed');"
   ]
  },
  {
   "cell_type": "code",
   "execution_count": 37,
   "id": "5d35be05-e282-4492-af51-371e05f2ea4c",
   "metadata": {},
   "outputs": [
    {
     "name": "stdout",
     "output_type": "stream",
     "text": [
      "<class 'pandas.core.frame.DataFrame'>\n",
      "RangeIndex: 133 entries, 0 to 132\n",
      "Data columns (total 9 columns):\n",
      " #   Column                   Non-Null Count  Dtype  \n",
      "---  ------                   --------------  -----  \n",
      " 0   Last_Name, First_Name    133 non-null    object \n",
      " 1   Player_Id                133 non-null    int64  \n",
      " 2   Year                     133 non-null    int64  \n",
      " 3   R_Total_Caught_Stealing  133 non-null    int64  \n",
      " 4   R_Total_Stolen_Base      133 non-null    int64  \n",
      " 5   N_Bolts                  133 non-null    float64\n",
      " 6   Sprint_Speed             133 non-null    float64\n",
      " 7   Total_Steal_Attempts     133 non-null    int64  \n",
      " 8   Stolen_Base_%            126 non-null    float64\n",
      "dtypes: float64(3), int64(5), object(1)\n",
      "memory usage: 9.5+ KB\n"
     ]
    }
   ],
   "source": [
    "df_2023.info()"
   ]
  },
  {
   "cell_type": "markdown",
   "id": "6c0341a0-2b22-4ce8-b53d-1da9831bfb44",
   "metadata": {},
   "source": [
    "# Conclusions"
   ]
  },
  {
   "cell_type": "markdown",
   "id": "7bd5535c-76cf-45d1-82b4-e1e6e8652248",
   "metadata": {},
   "source": [
    "This analysis has led me to the following two conclusions:\n",
    "1. At a 5% significance level I reject the null hypothesis and accept the alternative hypothesis. Therefore, the increase in stolen bases from 2022 to 2023 ***was*** significant. Using a two-sample t-test, I found a the p-value to be less than the alpha level, and the t-statistic to be more extreme than the critical t-value. The numbers back the hype.\n",
    "2. "
   ]
  },
  {
   "cell_type": "markdown",
   "id": "445b989d-1e4f-41d9-954a-d718edd672e6",
   "metadata": {},
   "source": [
    "## Limitations"
   ]
  },
  {
   "cell_type": "markdown",
   "id": "8013962c-07c1-45cf-bf54-a0385f667755",
   "metadata": {},
   "source": [
    "1. I used a rather **small dataset**. I analyzed the SB numbers based on the 2023 data, which has data from only 133 players. "
   ]
  },
  {
   "cell_type": "markdown",
   "id": "34b4a35f-d373-4ac8-80ef-b1b4442c50ba",
   "metadata": {},
   "source": [
    "## Recommendations"
   ]
  },
  {
   "cell_type": "markdown",
   "id": "687a5327-eb7d-4f10-ac08-8fb0bac07803",
   "metadata": {},
   "source": []
  },
  {
   "cell_type": "markdown",
   "id": "a7a067c0-13d1-440f-8555-a7f13c19568f",
   "metadata": {},
   "source": [
    "## Next Steps"
   ]
  },
  {
   "cell_type": "markdown",
   "id": "955d4ef8-77d5-4efe-aeb0-dc84704525f3",
   "metadata": {},
   "source": [
    "1. I would like to **repeat this analysis** with a larger dataset, using all time data available. This would include observing SB over all the years and digging into increases and decreases. This also would inlude compare stats from players with high SB over all the years to investigate any trends. I believe this could give me further insight into SB statistics.\n",
    "2. "
   ]
  },
  {
   "cell_type": "code",
   "execution_count": null,
   "id": "e600260a-f280-4715-bb8d-319a39900650",
   "metadata": {},
   "outputs": [],
   "source": []
  }
 ],
 "metadata": {
  "kernelspec": {
   "display_name": "Python 3 (ipykernel)",
   "language": "python",
   "name": "python3"
  },
  "language_info": {
   "codemirror_mode": {
    "name": "ipython",
    "version": 3
   },
   "file_extension": ".py",
   "mimetype": "text/x-python",
   "name": "python",
   "nbconvert_exporter": "python",
   "pygments_lexer": "ipython3",
   "version": "3.11.5"
  }
 },
 "nbformat": 4,
 "nbformat_minor": 5
}
