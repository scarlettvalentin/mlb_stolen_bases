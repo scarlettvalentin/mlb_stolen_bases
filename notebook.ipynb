{
 "cells": [
  {
   "cell_type": "markdown",
   "id": "31066a08-f833-4774-a5f5-5b18f72eed2c",
   "metadata": {},
   "source": [
    "# Stolen Bases: A Matter of Skill or Guts?"
   ]
  },
  {
   "cell_type": "markdown",
   "id": "54dca709-8af9-4410-8912-83287242c831",
   "metadata": {},
   "source": [
    "<img src='https://img.mlbstatic.com/mlb-images/image/upload/t_2x1/t_w1536/mlb/yblyorebwvue0kwl7y0b.jpg' width='600' align='center'/>"
   ]
  },
  {
   "cell_type": "markdown",
   "id": "3b66224a-e63e-45f5-b6c9-fb81c8ce5563",
   "metadata": {},
   "source": [
    "# Business Understanding"
   ]
  },
  {
   "cell_type": "markdown",
   "id": "6e5719ea-b7f2-4bf2-afe7-c817854f94af",
   "metadata": {},
   "source": [
    "MLB saw an increase in stolen bases in 2023. An MLB team wants to increase viewer retention rates and increase the fan base by adding more action into the game, and they've decided on joining the fun with stolen bases. In this project, I will be advising the MLB team on **how to increase SB stats** for their players. Is it a matter of skill or guts? While this MLB team wants to increase SB stats, they do not want it to jeopardize their wins.\n",
    "\n",
    "I investigate the following question:\n",
    "- What is the number of **stolen base attempts** that would **increase action** in the game ***without*** greatly **increasing the chances of a loss**?"
   ]
  },
  {
   "cell_type": "markdown",
   "id": "444c0601-b232-4a3c-93d2-9201fca94350",
   "metadata": {},
   "source": [
    "# Data Understanding"
   ]
  },
  {
   "cell_type": "markdown",
   "id": "6a052b00-11ee-4777-9f7d-d7cfc5bacaaf",
   "metadata": {},
   "source": [
    "This data was extracted from a [custom leaderboard](https://baseballsavant.mlb.com/leaderboard/custom?year=2023&type=batter&filter=&min=q&selections=r_total_caught_stealing%2Cr_total_stolen_base%2Cn_bolts%2Csprint_speed&chart=true&x=r_total_caught_stealing&y=r_total_caught_stealing&r=no&chartType=beeswarm&sort=r_total_stolen_base&sortDir=desc) I created on **Baseball Savant**. The data includes **CS** (caught stealing), **SB** (stolen base), **Bolts** and **Sprint Speed** from **133 players in the MLB** (Major League Baseball) from 2023. This data has been collected from **Statcast**, \"a state-of-the-art tracking technology, capable of measuring previously unquantifiable aspects of the game.\"([Baseball Savant](https://baseballsavant.mlb.com/about#:~:text=Where%20is%20the%20data%20from,probable%20pitchers%20for%20upcoming%20days.))"
   ]
  },
  {
   "cell_type": "markdown",
   "id": "cae766ed-337a-4f61-8cdf-ab28e6063c57",
   "metadata": {},
   "source": [
    "I began with importing the necessary libraries for my data preparation and exploratory data analysis. These libraries are for data manipulation and data visualization."
   ]
  },
  {
   "cell_type": "code",
   "execution_count": 2,
   "id": "1849775b-a466-4ef2-9e34-3aba4695a683",
   "metadata": {},
   "outputs": [],
   "source": [
    "import pandas as pd\n",
    "import numpy as np\n",
    "import matplotlib.pyplot as plt\n",
    "import seaborn as sns\n",
    "\n",
    "%matplotlib inline"
   ]
  },
  {
   "cell_type": "code",
   "execution_count": 3,
   "id": "04975863-7391-4a89-8e5c-f33791deafcb",
   "metadata": {},
   "outputs": [],
   "source": [
    "player_data_df = pd.read_csv('stats.csv')"
   ]
  },
  {
   "cell_type": "markdown",
   "id": "aadb9dae-4084-4239-8a14-1c5cf3b79547",
   "metadata": {},
   "source": [
    "## Data Preparation"
   ]
  },
  {
   "cell_type": "markdown",
   "id": "bda036e9-856a-4ae4-b4c9-c9da61e2545c",
   "metadata": {},
   "source": [
    "Since the data was extracted from a custom leaderboard I created on [Baseball Savant](https://baseballsavant.mlb.com/), there was minimal cleaning that needed to be done. "
   ]
  },
  {
   "cell_type": "markdown",
   "id": "96697e61-892c-47f5-982f-873d893d9632",
   "metadata": {},
   "source": [
    "First, I previewed the first 5 entries of the table. This gives me a general idea on how I want to clean and handle the data. I notice:\n",
    "1. I want to **clean the column names**.\n",
    "2. I already see **NaNs for n_bolts**. I will have to decide how to handle that.\n",
    "3. Team names are not included in the dataset. I could add team rosters to a variable and feature engineer a column for teams, but I am more **focused on specific players** stealing bases, not on overall team statistics.\n",
    "4. On Baseball Savant, my customer leaderboard was **sorted** by descending stolen bases but the data did *not* import that way. I will keep that in mind as I proceed with my analysis."
   ]
  },
  {
   "cell_type": "code",
   "execution_count": 5,
   "id": "c14b5052-f38a-4fad-b214-2ae1ae959ca9",
   "metadata": {},
   "outputs": [
    {
     "data": {
      "text/html": [
       "<div>\n",
       "<style scoped>\n",
       "    .dataframe tbody tr th:only-of-type {\n",
       "        vertical-align: middle;\n",
       "    }\n",
       "\n",
       "    .dataframe tbody tr th {\n",
       "        vertical-align: top;\n",
       "    }\n",
       "\n",
       "    .dataframe thead th {\n",
       "        text-align: right;\n",
       "    }\n",
       "</style>\n",
       "<table border=\"1\" class=\"dataframe\">\n",
       "  <thead>\n",
       "    <tr style=\"text-align: right;\">\n",
       "      <th></th>\n",
       "      <th>last_name, first_name</th>\n",
       "      <th>player_id</th>\n",
       "      <th>year</th>\n",
       "      <th>r_total_caught_stealing</th>\n",
       "      <th>r_total_stolen_base</th>\n",
       "      <th>n_bolts</th>\n",
       "      <th>sprint_speed</th>\n",
       "    </tr>\n",
       "  </thead>\n",
       "  <tbody>\n",
       "    <tr>\n",
       "      <th>0</th>\n",
       "      <td>Candelario, Jeimer</td>\n",
       "      <td>600869</td>\n",
       "      <td>2023</td>\n",
       "      <td>1</td>\n",
       "      <td>8</td>\n",
       "      <td>NaN</td>\n",
       "      <td>27.5</td>\n",
       "    </tr>\n",
       "    <tr>\n",
       "      <th>1</th>\n",
       "      <td>McMahon, Ryan</td>\n",
       "      <td>641857</td>\n",
       "      <td>2023</td>\n",
       "      <td>5</td>\n",
       "      <td>5</td>\n",
       "      <td>NaN</td>\n",
       "      <td>25.8</td>\n",
       "    </tr>\n",
       "    <tr>\n",
       "      <th>2</th>\n",
       "      <td>Muncy, Max</td>\n",
       "      <td>571970</td>\n",
       "      <td>2023</td>\n",
       "      <td>2</td>\n",
       "      <td>1</td>\n",
       "      <td>NaN</td>\n",
       "      <td>26.9</td>\n",
       "    </tr>\n",
       "    <tr>\n",
       "      <th>3</th>\n",
       "      <td>Soler, Jorge</td>\n",
       "      <td>624585</td>\n",
       "      <td>2023</td>\n",
       "      <td>0</td>\n",
       "      <td>1</td>\n",
       "      <td>NaN</td>\n",
       "      <td>26.6</td>\n",
       "    </tr>\n",
       "    <tr>\n",
       "      <th>4</th>\n",
       "      <td>Edman, Tommy</td>\n",
       "      <td>669242</td>\n",
       "      <td>2023</td>\n",
       "      <td>4</td>\n",
       "      <td>27</td>\n",
       "      <td>7.0</td>\n",
       "      <td>28.8</td>\n",
       "    </tr>\n",
       "  </tbody>\n",
       "</table>\n",
       "</div>"
      ],
      "text/plain": [
       "  last_name, first_name  player_id  year  r_total_caught_stealing  \\\n",
       "0    Candelario, Jeimer     600869  2023                        1   \n",
       "1         McMahon, Ryan     641857  2023                        5   \n",
       "2            Muncy, Max     571970  2023                        2   \n",
       "3          Soler, Jorge     624585  2023                        0   \n",
       "4          Edman, Tommy     669242  2023                        4   \n",
       "\n",
       "   r_total_stolen_base  n_bolts  sprint_speed  \n",
       "0                    8      NaN          27.5  \n",
       "1                    5      NaN          25.8  \n",
       "2                    1      NaN          26.9  \n",
       "3                    1      NaN          26.6  \n",
       "4                   27      7.0          28.8  "
      ]
     },
     "execution_count": 5,
     "metadata": {},
     "output_type": "execute_result"
    }
   ],
   "source": [
    "# View the first 5 entries of the table\n",
    "player_data_df.head()"
   ]
  },
  {
   "cell_type": "markdown",
   "id": "927dc4b8-00ff-4d22-ae05-f276aaaea069",
   "metadata": {},
   "source": [
    "Below I noticed as I viewed the overall makeup of the data that n_bolts is the only column with nulls. Thats "
   ]
  },
  {
   "cell_type": "code",
   "execution_count": 7,
   "id": "ca9d17e3-9ae1-4dab-a827-6bcfacb5ff6f",
   "metadata": {},
   "outputs": [
    {
     "name": "stdout",
     "output_type": "stream",
     "text": [
      "<class 'pandas.core.frame.DataFrame'>\n",
      "RangeIndex: 133 entries, 0 to 132\n",
      "Data columns (total 7 columns):\n",
      " #   Column                   Non-Null Count  Dtype  \n",
      "---  ------                   --------------  -----  \n",
      " 0   last_name, first_name    133 non-null    object \n",
      " 1   player_id                133 non-null    int64  \n",
      " 2   year                     133 non-null    int64  \n",
      " 3   r_total_caught_stealing  133 non-null    int64  \n",
      " 4   r_total_stolen_base      133 non-null    int64  \n",
      " 5   n_bolts                  50 non-null     float64\n",
      " 6   sprint_speed             133 non-null    float64\n",
      "dtypes: float64(2), int64(4), object(1)\n",
      "memory usage: 7.4+ KB\n"
     ]
    }
   ],
   "source": [
    "# View the overall shape, dtypes and null counts for each column\n",
    "player_data_df.info()"
   ]
  },
  {
   "cell_type": "markdown",
   "id": "b478f41e-f21e-43f9-8ae8-d056893156f8",
   "metadata": {},
   "source": [
    "Below shows the summary statistics of the dataset. Although all of the data below is numerical, player_id and year are categorical data, so those can be ignored. r_total_caught_stealing, r_total_stolen_base, n_bolts, and sprint_speed, however, give me a general overview of the values I expect to see in the data set."
   ]
  },
  {
   "cell_type": "code",
   "execution_count": 8,
   "id": "ff41392a-06b2-413f-a6cb-b034d29e4d58",
   "metadata": {
    "scrolled": true
   },
   "outputs": [
    {
     "data": {
      "text/html": [
       "<div>\n",
       "<style scoped>\n",
       "    .dataframe tbody tr th:only-of-type {\n",
       "        vertical-align: middle;\n",
       "    }\n",
       "\n",
       "    .dataframe tbody tr th {\n",
       "        vertical-align: top;\n",
       "    }\n",
       "\n",
       "    .dataframe thead th {\n",
       "        text-align: right;\n",
       "    }\n",
       "</style>\n",
       "<table border=\"1\" class=\"dataframe\">\n",
       "  <thead>\n",
       "    <tr style=\"text-align: right;\">\n",
       "      <th></th>\n",
       "      <th>player_id</th>\n",
       "      <th>year</th>\n",
       "      <th>r_total_caught_stealing</th>\n",
       "      <th>r_total_stolen_base</th>\n",
       "      <th>n_bolts</th>\n",
       "      <th>sprint_speed</th>\n",
       "    </tr>\n",
       "  </thead>\n",
       "  <tbody>\n",
       "    <tr>\n",
       "      <th>count</th>\n",
       "      <td>133.000000</td>\n",
       "      <td>133.0</td>\n",
       "      <td>133.000000</td>\n",
       "      <td>133.000000</td>\n",
       "      <td>50.000000</td>\n",
       "      <td>133.000000</td>\n",
       "    </tr>\n",
       "    <tr>\n",
       "      <th>mean</th>\n",
       "      <td>633932.578947</td>\n",
       "      <td>2023.0</td>\n",
       "      <td>2.796992</td>\n",
       "      <td>11.751880</td>\n",
       "      <td>20.060000</td>\n",
       "      <td>27.395489</td>\n",
       "    </tr>\n",
       "    <tr>\n",
       "      <th>std</th>\n",
       "      <td>49936.834584</td>\n",
       "      <td>0.0</td>\n",
       "      <td>2.859750</td>\n",
       "      <td>12.585108</td>\n",
       "      <td>33.705453</td>\n",
       "      <td>1.242301</td>\n",
       "    </tr>\n",
       "    <tr>\n",
       "      <th>min</th>\n",
       "      <td>457759.000000</td>\n",
       "      <td>2023.0</td>\n",
       "      <td>0.000000</td>\n",
       "      <td>0.000000</td>\n",
       "      <td>1.000000</td>\n",
       "      <td>24.300000</td>\n",
       "    </tr>\n",
       "    <tr>\n",
       "      <th>25%</th>\n",
       "      <td>605204.000000</td>\n",
       "      <td>2023.0</td>\n",
       "      <td>1.000000</td>\n",
       "      <td>3.000000</td>\n",
       "      <td>2.000000</td>\n",
       "      <td>26.400000</td>\n",
       "    </tr>\n",
       "    <tr>\n",
       "      <th>50%</th>\n",
       "      <td>656305.000000</td>\n",
       "      <td>2023.0</td>\n",
       "      <td>2.000000</td>\n",
       "      <td>8.000000</td>\n",
       "      <td>6.000000</td>\n",
       "      <td>27.400000</td>\n",
       "    </tr>\n",
       "    <tr>\n",
       "      <th>75%</th>\n",
       "      <td>666969.000000</td>\n",
       "      <td>2023.0</td>\n",
       "      <td>4.000000</td>\n",
       "      <td>16.000000</td>\n",
       "      <td>18.000000</td>\n",
       "      <td>28.300000</td>\n",
       "    </tr>\n",
       "    <tr>\n",
       "      <th>max</th>\n",
       "      <td>807799.000000</td>\n",
       "      <td>2023.0</td>\n",
       "      <td>15.000000</td>\n",
       "      <td>73.000000</td>\n",
       "      <td>149.000000</td>\n",
       "      <td>30.500000</td>\n",
       "    </tr>\n",
       "  </tbody>\n",
       "</table>\n",
       "</div>"
      ],
      "text/plain": [
       "           player_id    year  r_total_caught_stealing  r_total_stolen_base  \\\n",
       "count     133.000000   133.0               133.000000           133.000000   \n",
       "mean   633932.578947  2023.0                 2.796992            11.751880   \n",
       "std     49936.834584     0.0                 2.859750            12.585108   \n",
       "min    457759.000000  2023.0                 0.000000             0.000000   \n",
       "25%    605204.000000  2023.0                 1.000000             3.000000   \n",
       "50%    656305.000000  2023.0                 2.000000             8.000000   \n",
       "75%    666969.000000  2023.0                 4.000000            16.000000   \n",
       "max    807799.000000  2023.0                15.000000            73.000000   \n",
       "\n",
       "          n_bolts  sprint_speed  \n",
       "count   50.000000    133.000000  \n",
       "mean    20.060000     27.395489  \n",
       "std     33.705453      1.242301  \n",
       "min      1.000000     24.300000  \n",
       "25%      2.000000     26.400000  \n",
       "50%      6.000000     27.400000  \n",
       "75%     18.000000     28.300000  \n",
       "max    149.000000     30.500000  "
      ]
     },
     "execution_count": 8,
     "metadata": {},
     "output_type": "execute_result"
    }
   ],
   "source": [
    "# View summary statistics of the dataset.\n",
    "player_data_df.describe()"
   ]
  },
  {
   "cell_type": "markdown",
   "id": "8c60150c-450f-4388-a57f-9fc4377aa9ca",
   "metadata": {},
   "source": [
    "Below I checked for duplicates. I didn't think there would be any but you never know!"
   ]
  },
  {
   "cell_type": "code",
   "execution_count": 9,
   "id": "f531e5fc-fa58-4a43-9ea0-0ee0b4cd60f8",
   "metadata": {},
   "outputs": [
    {
     "data": {
      "text/plain": [
       "0"
      ]
     },
     "execution_count": 9,
     "metadata": {},
     "output_type": "execute_result"
    }
   ],
   "source": [
    "# Check for duplicated\n",
    "len(player_data_df[player_data_df.duplicated()])"
   ]
  },
  {
   "cell_type": "code",
   "execution_count": 10,
   "id": "bd3a97f3-1305-4b08-96d0-05eed610a377",
   "metadata": {},
   "outputs": [],
   "source": [
    "# Rewrite column names in title case\n",
    "player_data_df.columns = player_data_df.columns.map(lambda x: x.title())"
   ]
  },
  {
   "cell_type": "code",
   "execution_count": 11,
   "id": "daadc20f-8c06-426f-851f-ef59ef5e1740",
   "metadata": {},
   "outputs": [
    {
     "data": {
      "text/html": [
       "<div>\n",
       "<style scoped>\n",
       "    .dataframe tbody tr th:only-of-type {\n",
       "        vertical-align: middle;\n",
       "    }\n",
       "\n",
       "    .dataframe tbody tr th {\n",
       "        vertical-align: top;\n",
       "    }\n",
       "\n",
       "    .dataframe thead th {\n",
       "        text-align: right;\n",
       "    }\n",
       "</style>\n",
       "<table border=\"1\" class=\"dataframe\">\n",
       "  <thead>\n",
       "    <tr style=\"text-align: right;\">\n",
       "      <th></th>\n",
       "      <th>Last_Name, First_Name</th>\n",
       "      <th>Player_Id</th>\n",
       "      <th>Year</th>\n",
       "      <th>R_Total_Caught_Stealing</th>\n",
       "      <th>R_Total_Stolen_Base</th>\n",
       "      <th>N_Bolts</th>\n",
       "      <th>Sprint_Speed</th>\n",
       "    </tr>\n",
       "  </thead>\n",
       "  <tbody>\n",
       "    <tr>\n",
       "      <th>0</th>\n",
       "      <td>Candelario, Jeimer</td>\n",
       "      <td>600869</td>\n",
       "      <td>2023</td>\n",
       "      <td>1</td>\n",
       "      <td>8</td>\n",
       "      <td>NaN</td>\n",
       "      <td>27.5</td>\n",
       "    </tr>\n",
       "    <tr>\n",
       "      <th>1</th>\n",
       "      <td>McMahon, Ryan</td>\n",
       "      <td>641857</td>\n",
       "      <td>2023</td>\n",
       "      <td>5</td>\n",
       "      <td>5</td>\n",
       "      <td>NaN</td>\n",
       "      <td>25.8</td>\n",
       "    </tr>\n",
       "    <tr>\n",
       "      <th>2</th>\n",
       "      <td>Muncy, Max</td>\n",
       "      <td>571970</td>\n",
       "      <td>2023</td>\n",
       "      <td>2</td>\n",
       "      <td>1</td>\n",
       "      <td>NaN</td>\n",
       "      <td>26.9</td>\n",
       "    </tr>\n",
       "    <tr>\n",
       "      <th>3</th>\n",
       "      <td>Soler, Jorge</td>\n",
       "      <td>624585</td>\n",
       "      <td>2023</td>\n",
       "      <td>0</td>\n",
       "      <td>1</td>\n",
       "      <td>NaN</td>\n",
       "      <td>26.6</td>\n",
       "    </tr>\n",
       "    <tr>\n",
       "      <th>4</th>\n",
       "      <td>Edman, Tommy</td>\n",
       "      <td>669242</td>\n",
       "      <td>2023</td>\n",
       "      <td>4</td>\n",
       "      <td>27</td>\n",
       "      <td>7.0</td>\n",
       "      <td>28.8</td>\n",
       "    </tr>\n",
       "    <tr>\n",
       "      <th>...</th>\n",
       "      <td>...</td>\n",
       "      <td>...</td>\n",
       "      <td>...</td>\n",
       "      <td>...</td>\n",
       "      <td>...</td>\n",
       "      <td>...</td>\n",
       "      <td>...</td>\n",
       "    </tr>\n",
       "    <tr>\n",
       "      <th>128</th>\n",
       "      <td>Benintendi, Andrew</td>\n",
       "      <td>643217</td>\n",
       "      <td>2023</td>\n",
       "      <td>2</td>\n",
       "      <td>13</td>\n",
       "      <td>NaN</td>\n",
       "      <td>27.3</td>\n",
       "    </tr>\n",
       "    <tr>\n",
       "      <th>129</th>\n",
       "      <td>Machado, Manny</td>\n",
       "      <td>592518</td>\n",
       "      <td>2023</td>\n",
       "      <td>2</td>\n",
       "      <td>3</td>\n",
       "      <td>NaN</td>\n",
       "      <td>26.3</td>\n",
       "    </tr>\n",
       "    <tr>\n",
       "      <th>130</th>\n",
       "      <td>Meneses, Joey</td>\n",
       "      <td>608841</td>\n",
       "      <td>2023</td>\n",
       "      <td>0</td>\n",
       "      <td>0</td>\n",
       "      <td>NaN</td>\n",
       "      <td>25.6</td>\n",
       "    </tr>\n",
       "    <tr>\n",
       "      <th>131</th>\n",
       "      <td>Arcia, Orlando</td>\n",
       "      <td>606115</td>\n",
       "      <td>2023</td>\n",
       "      <td>0</td>\n",
       "      <td>1</td>\n",
       "      <td>NaN</td>\n",
       "      <td>25.9</td>\n",
       "    </tr>\n",
       "    <tr>\n",
       "      <th>132</th>\n",
       "      <td>Seager, Corey</td>\n",
       "      <td>608369</td>\n",
       "      <td>2023</td>\n",
       "      <td>1</td>\n",
       "      <td>2</td>\n",
       "      <td>NaN</td>\n",
       "      <td>26.2</td>\n",
       "    </tr>\n",
       "  </tbody>\n",
       "</table>\n",
       "<p>133 rows × 7 columns</p>\n",
       "</div>"
      ],
      "text/plain": [
       "    Last_Name, First_Name  Player_Id  Year  R_Total_Caught_Stealing  \\\n",
       "0      Candelario, Jeimer     600869  2023                        1   \n",
       "1           McMahon, Ryan     641857  2023                        5   \n",
       "2              Muncy, Max     571970  2023                        2   \n",
       "3            Soler, Jorge     624585  2023                        0   \n",
       "4            Edman, Tommy     669242  2023                        4   \n",
       "..                    ...        ...   ...                      ...   \n",
       "128    Benintendi, Andrew     643217  2023                        2   \n",
       "129        Machado, Manny     592518  2023                        2   \n",
       "130         Meneses, Joey     608841  2023                        0   \n",
       "131        Arcia, Orlando     606115  2023                        0   \n",
       "132         Seager, Corey     608369  2023                        1   \n",
       "\n",
       "     R_Total_Stolen_Base  N_Bolts  Sprint_Speed  \n",
       "0                      8      NaN          27.5  \n",
       "1                      5      NaN          25.8  \n",
       "2                      1      NaN          26.9  \n",
       "3                      1      NaN          26.6  \n",
       "4                     27      7.0          28.8  \n",
       "..                   ...      ...           ...  \n",
       "128                   13      NaN          27.3  \n",
       "129                    3      NaN          26.3  \n",
       "130                    0      NaN          25.6  \n",
       "131                    1      NaN          25.9  \n",
       "132                    2      NaN          26.2  \n",
       "\n",
       "[133 rows x 7 columns]"
      ]
     },
     "execution_count": 11,
     "metadata": {},
     "output_type": "execute_result"
    }
   ],
   "source": [
    "player_data_df"
   ]
  },
  {
   "cell_type": "code",
   "execution_count": null,
   "id": "32a1dfcb-9200-42dc-98f1-aa607440807f",
   "metadata": {},
   "outputs": [],
   "source": [
    "# Replace NaNs in N_Bolts with 0"
   ]
  },
  {
   "cell_type": "markdown",
   "id": "2fb67518-4a4f-49a3-be72-ff8fd2f50067",
   "metadata": {},
   "source": [
    "# Exploratory Data Analysis"
   ]
  },
  {
   "cell_type": "markdown",
   "id": "e1e62b94-56d1-4815-b66c-745f014af60b",
   "metadata": {},
   "source": []
  },
  {
   "cell_type": "markdown",
   "id": "6c0341a0-2b22-4ce8-b53d-1da9831bfb44",
   "metadata": {},
   "source": [
    "# Conclusions"
   ]
  },
  {
   "cell_type": "markdown",
   "id": "7bd5535c-76cf-45d1-82b4-e1e6e8652248",
   "metadata": {},
   "source": []
  },
  {
   "cell_type": "markdown",
   "id": "445b989d-1e4f-41d9-954a-d718edd672e6",
   "metadata": {},
   "source": [
    "## Limitations"
   ]
  },
  {
   "cell_type": "markdown",
   "id": "8013962c-07c1-45cf-bf54-a0385f667755",
   "metadata": {},
   "source": []
  },
  {
   "cell_type": "markdown",
   "id": "34b4a35f-d373-4ac8-80ef-b1b4442c50ba",
   "metadata": {},
   "source": [
    "## Recommendations"
   ]
  },
  {
   "cell_type": "markdown",
   "id": "687a5327-eb7d-4f10-ac08-8fb0bac07803",
   "metadata": {},
   "source": []
  },
  {
   "cell_type": "markdown",
   "id": "a7a067c0-13d1-440f-8555-a7f13c19568f",
   "metadata": {},
   "source": [
    "## Next Steps"
   ]
  },
  {
   "cell_type": "markdown",
   "id": "955d4ef8-77d5-4efe-aeb0-dc84704525f3",
   "metadata": {},
   "source": []
  }
 ],
 "metadata": {
  "kernelspec": {
   "display_name": "Python 3 (ipykernel)",
   "language": "python",
   "name": "python3"
  },
  "language_info": {
   "codemirror_mode": {
    "name": "ipython",
    "version": 3
   },
   "file_extension": ".py",
   "mimetype": "text/x-python",
   "name": "python",
   "nbconvert_exporter": "python",
   "pygments_lexer": "ipython3",
   "version": "3.11.5"
  }
 },
 "nbformat": 4,
 "nbformat_minor": 5
}
