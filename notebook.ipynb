{
 "cells": [
  {
   "cell_type": "markdown",
   "id": "31066a08-f833-4774-a5f5-5b18f72eed2c",
   "metadata": {},
   "source": [
    "# Stolen Bases: A Matter of Skill or Guts?"
   ]
  },
  {
   "cell_type": "markdown",
   "id": "54dca709-8af9-4410-8912-83287242c831",
   "metadata": {},
   "source": [
    "<img src='https://img.mlbstatic.com/mlb-images/image/upload/t_2x1/t_w1536/mlb/yblyorebwvue0kwl7y0b.jpg' width='600' align='center'/>"
   ]
  },
  {
   "cell_type": "markdown",
   "id": "3b66224a-e63e-45f5-b6c9-fb81c8ce5563",
   "metadata": {},
   "source": [
    "# Business Understanding"
   ]
  },
  {
   "cell_type": "markdown",
   "id": "6e5719ea-b7f2-4bf2-afe7-c817854f94af",
   "metadata": {},
   "source": [
    "MLB saw an increase in stolen bases in 2023. An MLB team wants to increase viewer retention rates and increase the fan base by adding more action into the game, and they've decided on joining the fun with stolen bases. In this project, I will be advising the MLB team on **how to increase SB stats** for their players. Is it a matter of skill or guts? While this MLB team wants to increase SB stats, they do not want it to jeopardize their wins.\n",
    "\n",
    "I investigate the following question:\n",
    "- What is the number of **stolen base attempts** that would **increase action** in the game ***without*** greatly **increasing the chances of a loss**?"
   ]
  },
  {
   "cell_type": "markdown",
   "id": "444c0601-b232-4a3c-93d2-9201fca94350",
   "metadata": {},
   "source": [
    "# Data Understanding"
   ]
  },
  {
   "cell_type": "markdown",
   "id": "6a052b00-11ee-4777-9f7d-d7cfc5bacaaf",
   "metadata": {},
   "source": [
    "This data was extracted from a [custom leaderboard](https://baseballsavant.mlb.com/leaderboard/custom?year=2023&type=batter&filter=&min=q&selections=r_total_caught_stealing%2Cr_total_stolen_base%2Cn_bolts%2Csprint_speed&chart=true&x=r_total_caught_stealing&y=r_total_caught_stealing&r=no&chartType=beeswarm&sort=r_total_stolen_base&sortDir=desc) I created on **Baseball Savant**. The data includes **CS** (caught stealing), **SB** (stolen base), **Bolts** and **Sprint Speed** from **133 players in the MLB** (Major League Baseball) from 2023. This data has been collected from **Statcast**, \"a state-of-the-art tracking technology, capable of measuring previously unquantifiable aspects of the game.\"([Baseball Savant](https://baseballsavant.mlb.com/about#:~:text=Where%20is%20the%20data%20from,probable%20pitchers%20for%20upcoming%20days.))"
   ]
  },
  {
   "cell_type": "markdown",
   "id": "cae766ed-337a-4f61-8cdf-ab28e6063c57",
   "metadata": {},
   "source": [
    "I began with importing the necessary libraries for my data preparation and exploratory data analysis. These libraries are for data manipulation and data visualization."
   ]
  },
  {
   "cell_type": "code",
   "execution_count": 2,
   "id": "1849775b-a466-4ef2-9e34-3aba4695a683",
   "metadata": {},
   "outputs": [],
   "source": [
    "import pandas as pd\n",
    "import numpy as np\n",
    "import matplotlib.pyplot as plt\n",
    "import seaborn as sns\n",
    "\n",
    "%matplotlib inline"
   ]
  },
  {
   "cell_type": "code",
   "execution_count": 3,
   "id": "04975863-7391-4a89-8e5c-f33791deafcb",
   "metadata": {},
   "outputs": [],
   "source": [
    "player_data_df = pd.read_csv('stats.csv')"
   ]
  },
  {
   "cell_type": "markdown",
   "id": "aadb9dae-4084-4239-8a14-1c5cf3b79547",
   "metadata": {},
   "source": [
    "## Data Preparation"
   ]
  },
  {
   "cell_type": "code",
   "execution_count": null,
   "id": "f6a4b837-b34d-4d0b-b295-bd6461f2ee3d",
   "metadata": {},
   "outputs": [],
   "source": []
  },
  {
   "cell_type": "markdown",
   "id": "2fb67518-4a4f-49a3-be72-ff8fd2f50067",
   "metadata": {},
   "source": [
    "# Exploratory Data Analysis"
   ]
  },
  {
   "cell_type": "markdown",
   "id": "e1e62b94-56d1-4815-b66c-745f014af60b",
   "metadata": {},
   "source": []
  },
  {
   "cell_type": "markdown",
   "id": "6c0341a0-2b22-4ce8-b53d-1da9831bfb44",
   "metadata": {},
   "source": [
    "# Conclusions"
   ]
  },
  {
   "cell_type": "markdown",
   "id": "7bd5535c-76cf-45d1-82b4-e1e6e8652248",
   "metadata": {},
   "source": []
  },
  {
   "cell_type": "markdown",
   "id": "445b989d-1e4f-41d9-954a-d718edd672e6",
   "metadata": {},
   "source": [
    "## Limitations"
   ]
  },
  {
   "cell_type": "markdown",
   "id": "8013962c-07c1-45cf-bf54-a0385f667755",
   "metadata": {},
   "source": []
  },
  {
   "cell_type": "markdown",
   "id": "34b4a35f-d373-4ac8-80ef-b1b4442c50ba",
   "metadata": {},
   "source": [
    "## Recommendations"
   ]
  },
  {
   "cell_type": "markdown",
   "id": "687a5327-eb7d-4f10-ac08-8fb0bac07803",
   "metadata": {},
   "source": []
  },
  {
   "cell_type": "markdown",
   "id": "a7a067c0-13d1-440f-8555-a7f13c19568f",
   "metadata": {},
   "source": [
    "## Next Steps"
   ]
  },
  {
   "cell_type": "markdown",
   "id": "955d4ef8-77d5-4efe-aeb0-dc84704525f3",
   "metadata": {},
   "source": []
  }
 ],
 "metadata": {
  "kernelspec": {
   "display_name": "Python 3 (ipykernel)",
   "language": "python",
   "name": "python3"
  },
  "language_info": {
   "codemirror_mode": {
    "name": "ipython",
    "version": 3
   },
   "file_extension": ".py",
   "mimetype": "text/x-python",
   "name": "python",
   "nbconvert_exporter": "python",
   "pygments_lexer": "ipython3",
   "version": "3.11.5"
  }
 },
 "nbformat": 4,
 "nbformat_minor": 5
}
